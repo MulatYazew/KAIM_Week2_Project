{
 "cells": [
  {
   "cell_type": "code",
   "execution_count": 7,
   "id": "57b8f405",
   "metadata": {},
   "outputs": [
    {
     "name": "stdout",
     "output_type": "stream",
     "text": [
      "Scraping Commercial Bank of Ethiopia...\n",
      "Scraping Bank of Abyssinia...\n",
      "Scraping Dashen Bank...\n",
      "Saved as ethiopian_banks_reviews.csv\n"
     ]
    }
   ],
   "source": [
    "import pandas as pd\n",
    "from google_play_scraper import Sort, reviews\n",
    "from datetime import datetime\n",
    "\n",
    "# Function to fetch reviews\n",
    "def fetch_reviews(app_id, bank_name, count=400):\n",
    "    all_reviews = []\n",
    "    batch_size = 100  # Max reviews per request\n",
    "\n",
    "    for offset in range(0, count, batch_size):\n",
    "        result, _ = reviews(\n",
    "            app_id,\n",
    "            lang='en',\n",
    "            country='us',\n",
    "            sort=Sort.NEWEST,\n",
    "            count=batch_size,\n",
    "            filter_score_with=None  # Get all reviews\n",
    "        )\n",
    "        for r in result:\n",
    "            all_reviews.append({\n",
    "                'review': r['content'],\n",
    "                'rating': r['score'],\n",
    "                'date': r['at'].date().isoformat(),\n",
    "                'bank': bank_name,\n",
    "                'source': 'Google Play'\n",
    "            })\n",
    "    return pd.DataFrame(all_reviews)\n",
    "\n",
    "# App IDs for banks\n",
    "apps = {\n",
    "    'Commercial Bank of Ethiopia': 'com.cbe.customerapp',\n",
    "    'Bank of Abyssinia': 'com.boa.boamobileapp',\n",
    "    'Dashen Bank': 'com.mis.dashenmobilebanking'\n",
    "}\n",
    "\n",
    "# Collect and combine data\n",
    "all_data = pd.DataFrame()\n",
    "for bank, app_id in apps.items():\n",
    "    print(f\"Scraping {bank}...\")\n",
    "    df = fetch_reviews(app_id, bank, count=500)\n",
    "    all_data = pd.concat([all_data, df], ignore_index=True)\n",
    "\n",
    "# Drop duplicates & save\n",
    "all_data.drop_duplicates(inplace=True)\n",
    "all_data.to_csv('ethiopian_banks_reviews.csv', index=False)\n",
    "print(\"Saved as ethiopian_banks_reviews.csv\")\n"
   ]
  }
 ],
 "metadata": {
  "kernelspec": {
   "display_name": "Python 3",
   "language": "python",
   "name": "python3"
  },
  "language_info": {
   "codemirror_mode": {
    "name": "ipython",
    "version": 3
   },
   "file_extension": ".py",
   "mimetype": "text/x-python",
   "name": "python",
   "nbconvert_exporter": "python",
   "pygments_lexer": "ipython3",
   "version": "3.11.0"
  }
 },
 "nbformat": 4,
 "nbformat_minor": 5
}
